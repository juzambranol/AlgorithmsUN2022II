{
  "nbformat": 4,
  "nbformat_minor": 0,
  "metadata": {
    "colab": {
      "provenance": [],
      "collapsed_sections": [],
      "include_colab_link": true
    },
    "kernelspec": {
      "name": "python3",
      "display_name": "Python 3"
    },
    "language_info": {
      "name": "python"
    }
  },
  "cells": [
    {
      "cell_type": "markdown",
      "metadata": {
        "id": "view-in-github",
        "colab_type": "text"
      },
      "source": [
        "<a href=\"https://colab.research.google.com/github/Manuelma4/AlgorithmsUN2022II/blob/main/Lab9/CormenSizeTimeComplexityGroup17.ipynb\" target=\"_parent\"><img src=\"https://colab.research.google.com/assets/colab-badge.svg\" alt=\"Open In Colab\"/></a>"
      ]
    },
    {
      "cell_type": "markdown",
      "metadata": {
        "id": "I5UAAxG2_CqQ"
      },
      "source": [
        "# 0.(1 microsecond by instruction)\n",
        "Asuuming that you can execute a million instructions $10^6$ every second, i.e. each instruction takes one microsecond $1\\mu s=10^{-6}$ seconds. If you have algorithms take $\\bf{ Time\\ Complexity}$ steps to solve a problem of size $n$ as specified in column one. What is the size of the largest problem that you can solve in the time specified in row one?\n",
        "\n",
        "$$\n",
        "\\begin{array}{|c|c|c|c|c|c|c|c|} \n",
        " \\hline\n",
        " \\bf{ Time\\ Complexity} & Second  & Minute  & Hour & Day & Year & Century & Mileniun  \\\\ \n",
        "  \\hline\\\\ \n",
        "\\lg(n) &     &  &  &  &  &  &  \\\\ \n",
        "   \\hline\\\\ \n",
        "\\lg^2(n) &    &   &  &  &  &  &  \\\\ \n",
        "   \\hline\\\\ \n",
        "\\sqrt{n} &    &   &  &  &  &  &  \\\\ \n",
        " \\hline\n",
        " n &    &   &  &  &  &  &  \\\\ \n",
        " \\hline\n",
        " n\\lg(n) &    &   &  &  &  &  &  \\\\ \n",
        " \\hline\n",
        " n^2 &    &  &  &  &  &  &  \\\\ \n",
        " \\hline\n",
        "  n^3 &    &   &  &  &  &  &  \\\\ \n",
        " \\hline\n",
        "  n^4 &    &   &  &  &  &  &  \\\\ \n",
        " \\hline\n",
        "  2^n &    &   &  &  &  &  &  \\\\ \n",
        " \\hline\n",
        " n! &    &   &  &  &  &  &  \\\\ \n",
        " \\hline\n",
        " n^n &    &   &  &  &  &  &  \\\\ \n",
        " \\hline\n",
        "\\end{array}\n",
        "$$"
      ]
    },
    {
      "cell_type": "markdown",
      "metadata": {
        "id": "yCCsCOW2OQbQ"
      },
      "source": [
        "# 1.(10  nanoseconds by instruction)\n",
        "\n",
        "Asuuming that you can execute a 100 million instructions $100 \\times 10^6$ every second, i.e. each instrcution takes 10 nanoseconds, 10 $\\eta s  = 10^{-8} s $. If you have algorithms take $\\bf{ Time\\ Complexity}$ steps to solve a poblem of size $n$ as specified in column one. What is the size of the largest porblem that you can solve in the time specified in row one?\n",
        "$$\n",
        "\\begin{array}{|c|c|c|c|c|c|c|c|} \n",
        " \\hline\n",
        " \\bf{ Time\\ Complexity} & Second  & Minute  & Hour & Day & Year & Century & Mileniun  \\\\ \n",
        "  \\hline\\\\ \n",
        "\\lg(n) &  2^{10^{8}}  &  2^{6\\cdot10^{9}} & 2^{3.6\\cdot10^{11}} & 2^{8.64\\cdot10^{12}} &2^{3.1536\\cdot10^{15}}  & 2^{3.1536\\cdot10^{17}} & 2^{3.1536\\cdot10^{18}} \\\\ \n",
        "   \\hline\\\\ \n",
        "\\lg^2(n) &  2^{10^{4}}  &  2^{7.7460\\cdot10^{4}} & 2^{6\\cdot10^{5}} & 2^{2.9394\\cdot10^{6}} & 2^{5.6157\\cdot10^{7}} & 2^{5.6157\\cdot10^{8}} & 2^{1.7758\\cdot10^{9}} \\\\ \n",
        "   \\hline\\\\ \n",
        "\\sqrt{n} &  10^{16}  & 3.6\\cdot10^{19}  & 1.2960\\cdot10^{23} & 7.4650\\cdot10^{25} & 9.9452\\cdot10^{30} & 9.9452\\cdot10^{34} & 9.9452\\cdot10^{36} \\\\ \n",
        " \\hline\n",
        " n &  10^{8}  &  6\\cdot10^{9} & 3.6\\cdot10^{11} & 8.64\\cdot10^{12} &3.1536\\cdot10^{15}  & 3.1536\\cdot10^{17} & 3.1536\\cdot10^{18} \\\\ \n",
        " \\hline\n",
        " n\\lg(n) & 4.5231\\cdot10^{6}   &  2.1767\\cdot10^{8} & 1.0800\\cdot10^{10}  & 2.2895\\cdot10^{11} & 6.8611\\cdot10^{13} & 6.0162\\cdot10^{15}  & 5.6665\\cdot10^{16} \\\\ \n",
        " \\hline\n",
        " n^2 &  10^{4}  &  7.7460\\cdot10^{4} & 6\\cdot10^{5} & 2.9394\\cdot10^{6} & 5.6157\\cdot10^{7} & 5.6157\\cdot10^{8} & 1.7758\\cdot10^{9} \\\\ \n",
        " \\hline\n",
        "  n^3 & 4.6416\\cdot10^{2}  & 1.8171\\cdot10^{3}  & 7.1138\\cdot10^{3} & 2.0520\\cdot10^{4} & 1.4665\\cdot10^{5} & 6.8067\\cdot10^{5} & 1.4665\\cdot10^{6}  \\\\ \n",
        " \\hline\n",
        "  n^4 &1.0000\\cdot10^{2} &2.7832\\cdot10^{2}&7.7460\\cdot10^{2}&1.7145\\cdot10^{3}&7.4938\\cdot10^{3}&2.3697\\cdot10^{4}&4.2141\\cdot10^{4}\\\\\n",
        " \\hline\n",
        "  2^n &2.6575\\cdot10 & 3.2482\\cdot10 & 3.8389\\cdot10 & 4.2974\\cdot10 & 5.1486\\cdot10 & 5.8130\\cdot10 & 6.1452\\cdot10  \\\\ \n",
        " \\hline\n",
        " n! & 1.1000\\cdot10 & 1.2000\\cdot10 & 1.4000\\cdot10 & 1.5000\\cdot10 & 1.7000\\cdot10 & 1.9000\\cdot10 & 2.0000\\cdot10  \\\\ \n",
        " \\hline\n",
        " n^n & 8.0000 & 9.0000 & 1.1000\\cdot10 & 1.1000\\cdot10 & 1.3000\\cdot10 & 1.4000\\cdot10 & 1.5000\\cdot10  \\\\ \n",
        " \\hline\n",
        "\\end{array}\n",
        "$$"
      ]
    },
    {
      "cell_type": "markdown",
      "metadata": {
        "id": "9fIs_70_DJWM"
      },
      "source": [
        "# 2.(2.5  nanoseconds by instruction)\n",
        "\n",
        "Asuuming that you can execute a 400 million instructions $400 \\times 10^6$ every second, i.e. each instrcution takes 2.5  nanoseconds, 2.5 $\\eta s  = 2.5 \\times 10^{-9} s$. If you have algorithms take $\\bf{ Time\\ Complexity}$ steps to solve a problem of size $n$ as specified in column one. What is the size of the largest problem that you can solve in the time specified in row one?\n",
        "$$\n",
        "\\begin{array}{|c|c|c|c|c|c|c|c|} \n",
        " \\hline\n",
        " \\bf{ Time\\ Complexity} & Second  & Minute  & Hour & Day & Year & Century & Mileniun  \\\\ \n",
        "  \\hline\\\\ \n",
        "\\lg(n) &    &   &  &  &  &  &  \\\\ \n",
        "   \\hline\\\\ \n",
        "\\lg^2(n) &    &   &  &  &  &  &  \\\\ \n",
        "   \\hline\\\\ \n",
        "\\sqrt{n} &    &   &  &  &  &  &  \\\\ \n",
        " \\hline\n",
        " n &    &   &  &  &  &  &  \\\\ \n",
        " \\hline\n",
        " n\\lg(n) &    &   &  &  &  &  &  \\\\ \n",
        " \\hline\n",
        " n^2 &    &   &  &  &  &  &  \\\\ \n",
        " \\hline\n",
        "  n^3 &    &   &  &  &  &  &  \\\\ \n",
        " \\hline\n",
        "  n^4 &    &   &  &  &  &  &  \\\\ \n",
        " \\hline\n",
        "  2^n &    &   &  &  &  &  &  \\\\ \n",
        " \\hline\n",
        " n! &    &   &  &  &  &  &  \\\\ \n",
        " \\hline\n",
        " n^n &    &   &  &  &  &  &  \\\\ \n",
        " \\hline\n",
        "\\end{array}\n",
        "$$"
      ]
    },
    {
      "cell_type": "markdown",
      "metadata": {
        "id": "kwpTH36ZIyQJ"
      },
      "source": [
        "# 3. (1 noneosecond by instruction)\n",
        "\n",
        "Asuuming that you can execute a 1000 million instructions $10^9$ every second, i.e. each instrcution takes 1  nanosecond, 1 $\\eta s  = 10^{-9} s$. If you have algorithms take $\\bf{ Time\\ Complexity}$ steps to solve a problem of size $n$ as specified in column one. What is the size of the largest problem that you can solve in the time specified in row one?\n",
        "$$\n",
        "\\begin{array}{|c|c|c|c|c|c|c|c|} \n",
        " \\hline\n",
        " \\bf{ Time\\ Complexity} & Second  & Minute  & Hour & Day & Year & Century & Mileniun  \\\\ \n",
        "  \\hline\\\\ \n",
        "\\lg(n) &    &   &  &  &  &  &  \\\\ \n",
        "   \\hline\\\\ \n",
        "\\lg^2(n) &    &   &  &  &  &  &  \\\\ \n",
        "   \\hline\\\\ \n",
        "\\sqrt{n} &    &   &  &  &  &  &  \\\\ \n",
        " \\hline\n",
        " n &    &   &  &  &  &  &  \\\\ \n",
        " \\hline\n",
        " n\\lg(n) &    &   &  &  &  &  &  \\\\ \n",
        " \\hline\n",
        " n^2 &    &   &  &  &  &  &  \\\\ \n",
        " \\hline\n",
        "  n^3 &    &   &  &  &  &  &  \\\\ \n",
        " \\hline\n",
        "  n^4 &    &   &  &  &  &  &  \\\\ \n",
        " \\hline\n",
        "  2^n &    &   &  &  &  &  &  \\\\ \n",
        " \\hline\n",
        " n! &    &   &  &  &  &  &  \\\\ \n",
        " \\hline\n",
        " n^n &    &   &  &  &  &  &  \\\\ \n",
        " \\hline\n",
        "\\end{array}\n",
        "$$"
      ]
    }
  ]
}