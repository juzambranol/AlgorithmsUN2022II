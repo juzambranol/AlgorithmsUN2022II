{
  "cells": [
    {
      "cell_type": "markdown",
      "metadata": {
        "id": "view-in-github",
        "colab_type": "text"
      },
      "source": [
        "<a href=\"https://colab.research.google.com/github/Manuelma4/AlgorithmsUN2022II/blob/main/Lab8/FibonacciTimesGroup17.ipynb\" target=\"_parent\"><img src=\"https://colab.research.google.com/assets/colab-badge.svg\" alt=\"Open In Colab\"/></a>"
      ]
    },
    {
      "cell_type": "code",
      "execution_count": null,
      "metadata": {
        "id": "bbFLcpmgjXIw"
      },
      "outputs": [],
      "source": [
        "from timeit import default_timer\n",
        "import matplotlib.pyplot as plt\n",
        "import seaborn as sns"
      ]
    },
    {
      "cell_type": "code",
      "execution_count": null,
      "metadata": {
        "id": "vUYkDpxigeCt"
      },
      "outputs": [],
      "source": [
        "def fib_rec(n):\n",
        "    if n == 0:\n",
        "        return 0\n",
        "    if n == 1:\n",
        "        return 1\n",
        "    return fib_rec(n-1) + fib_rec(n-2)\n",
        "\n",
        "def fib_iter(n):\n",
        "    if( n == 0):\n",
        "        return 0\n",
        "    else:\n",
        "        x = 0\n",
        "        y = 1\n",
        "        for i in range(1,n):\n",
        "            z = (x + y)\n",
        "            x = y\n",
        "            y = z\n",
        "            return y\n"
      ]
    },
    {
      "cell_type": "code",
      "execution_count": null,
      "metadata": {
        "id": "ORGtdYgwi47s"
      },
      "outputs": [],
      "source": [
        "start = default_timer()\n",
        "n = 40\n",
        "time_rec = []\n",
        "time_iter = []\n",
        "for i in range(n + 1):\n",
        "  fib_rec(i)\n",
        "  end = default_timer()\n",
        "  time_rec.append(end - start)\n",
        "\n",
        "m = 1000 \n",
        "for i in range(m + 1):\n",
        "  fib_iter(i)\n",
        "  end = default_timer()\n",
        "  time_iter.append(end - start)\n",
        "\n"
      ]
    },
    {
      "cell_type": "code",
      "execution_count": null,
      "metadata": {
        "colab": {
          "base_uri": "https://localhost:8080/",
          "height": 296
        },
        "id": "umosjBZDkHi9",
        "outputId": "2966022d-f208-4a70-c21e-7923d3e5b6e1"
      },
      "outputs": [
        {
          "data": {
            "text/plain": [
              "<matplotlib.legend.Legend at 0x7efc7e564bd0>"
            ]
          },
          "execution_count": 37,
          "metadata": {
            "tags": []
          },
          "output_type": "execute_result"
        },
        {
          "data": {
            "image/png": "[encoded data removed]",
            "text/plain": [
              "<Figure size 432x288 with 1 Axes>"
            ]
          },
          "metadata": {
            "needs_background": "light",
            "tags": []
          },
          "output_type": "display_data"
        }
      ],
      "source": [
        "ax = sns.scatterplot(data= [time_rec, time_iter])\n",
        "plt.ylabel(\"Time\")\n",
        "plt.xlabel(\"Fibonnaci(n)\");\n",
        "plt.legend()"
      ]
    },
    {
      "cell_type": "code",
      "execution_count": null,
      "metadata": {
        "colab": {
          "base_uri": "https://localhost:8080/",
          "height": 400
        },
        "id": "RcvWa4himyNK",
        "outputId": "6e44eb91-8d00-4933-e572-13b86f2b0143"
      },
      "outputs": [
        {
          "data": {
            "text/plain": [
              "<matplotlib.legend.Legend at 0x7efc7d117f90>"
            ]
          },
          "execution_count": 38,
          "metadata": {
            "tags": []
          },
          "output_type": "execute_result"
        },
        {
          "data": {
            "image/png": "[encoded data removed]",
            "text/plain": [
              "<Figure size 402.375x360 with 1 Axes>"
            ]
          },
          "metadata": {
            "needs_background": "light",
            "tags": []
          },
          "output_type": "display_data"
        }
      ],
      "source": [
        "ax = sns.relplot(data= [time_rec, time_iter], kind=\"line\")\n",
        "plt.ylabel(\"Time\")\n",
        "plt.xlabel(\"Fibonnaci(n)\");\n",
        "plt.legend()"
      ]
    }
  ],
  "metadata": {
    "colab": {
      "collapsed_sections": [],
      "provenance": [],
      "include_colab_link": true
    },
    "kernelspec": {
      "display_name": "Python 3 (ipykernel)",
      "language": "python",
      "name": "python3"
    },
    "language_info": {
      "codemirror_mode": {
        "name": "ipython",
        "version": 3
      },
      "file_extension": ".py",
      "mimetype": "text/x-python",
      "name": "python",
      "nbconvert_exporter": "python",
      "pygments_lexer": "ipython3",
      "version": "3.8.13"
    }
  },
  "nbformat": 4,
  "nbformat_minor": 0
}