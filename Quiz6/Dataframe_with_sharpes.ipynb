{
  "cells": [
    {
      "cell_type": "markdown",
      "metadata": {
        "id": "view-in-github",
        "colab_type": "text"
      },
      "source": [
        "<a href=\"https://colab.research.google.com/github/Manuelma4/AlgorithmsUN2022II/blob/main/Quiz6/Dataframe_with_sharpes.ipynb\" target=\"_parent\"><img src=\"https://colab.research.google.com/assets/colab-badge.svg\" alt=\"Open In Colab\"/></a>"
      ]
    },
    {
      "cell_type": "markdown",
      "metadata": {
        "id": "-_ItVxtDmwol"
      },
      "source": [
        "# Q18 Quick Start\n",
        "\n",
        "This template shows you the basic steps for taking part to the **Q18 NASDAQ-100 Stock Long-Short contest**."
      ]
    },
    {
      "cell_type": "code",
      "execution_count": null,
      "metadata": {
        "colab": {
          "base_uri": "https://localhost:8080/"
        },
        "id": "r6x6xGXEmwo0",
        "outputId": "9df75d6c-b610-43af-e0f0-19322a36b3d7"
      },
      "outputs": [
        {
          "output_type": "error",
          "ename": "ModuleNotFoundError",
          "evalue": "ignored",
          "traceback": [
            "\u001b[0;31m---------------------------------------------------------------------------\u001b[0m",
            "\u001b[0;31mModuleNotFoundError\u001b[0m                       Traceback (most recent call last)",
            "\u001b[0;32m<ipython-input-1-d8503123532e>\u001b[0m in \u001b[0;36m<module>\u001b[0;34m\u001b[0m\n\u001b[1;32m      1\u001b[0m \u001b[0;32mimport\u001b[0m \u001b[0mxarray\u001b[0m \u001b[0;32mas\u001b[0m \u001b[0mxr\u001b[0m\u001b[0;34m\u001b[0m\u001b[0;34m\u001b[0m\u001b[0m\n\u001b[1;32m      2\u001b[0m \u001b[0;34m\u001b[0m\u001b[0m\n\u001b[0;32m----> 3\u001b[0;31m \u001b[0;32mimport\u001b[0m \u001b[0mqnt\u001b[0m\u001b[0;34m.\u001b[0m\u001b[0mta\u001b[0m \u001b[0;32mas\u001b[0m \u001b[0mqnta\u001b[0m\u001b[0;34m\u001b[0m\u001b[0;34m\u001b[0m\u001b[0m\n\u001b[0m\u001b[1;32m      4\u001b[0m \u001b[0;32mimport\u001b[0m \u001b[0mqnt\u001b[0m\u001b[0;34m.\u001b[0m\u001b[0mdata\u001b[0m \u001b[0;32mas\u001b[0m \u001b[0mqndata\u001b[0m\u001b[0;34m\u001b[0m\u001b[0;34m\u001b[0m\u001b[0m\n\u001b[1;32m      5\u001b[0m \u001b[0;32mimport\u001b[0m \u001b[0mqnt\u001b[0m\u001b[0;34m.\u001b[0m\u001b[0moutput\u001b[0m \u001b[0;32mas\u001b[0m \u001b[0mqnout\u001b[0m\u001b[0;34m\u001b[0m\u001b[0;34m\u001b[0m\u001b[0m\n",
            "\u001b[0;31mModuleNotFoundError\u001b[0m: No module named 'qnt'",
            "",
            "\u001b[0;31m---------------------------------------------------------------------------\u001b[0;32m\nNOTE: If your import is failing due to a missing package, you can\nmanually install dependencies using either !pip or !apt.\n\nTo view examples of installing some common dependencies, click the\n\"Open Examples\" button below.\n\u001b[0;31m---------------------------------------------------------------------------\u001b[0m\n"
          ],
          "errorDetails": {
            "actions": [
              {
                "action": "open_url",
                "actionText": "Open Examples",
                "url": "/notebooks/snippets/importing_libraries.ipynb"
              }
            ]
          }
        }
      ],
      "source": [
        "import xarray as xr\n",
        "\n",
        "import qnt.ta as qnta\n",
        "import qnt.data as qndata\n",
        "import qnt.output as qnout\n",
        "import qnt.stats as qns\n",
        "\n",
        "data = qndata.stocks.load_ndx_data(min_date=\"2005-06-01\")\n",
        "\n",
        "close     = data.sel(field=\"close\")\n",
        "is_liquid = data.sel(field=\"is_liquid\")\n",
        "sma_slow  = qnta.sma(close, 200)\n",
        "sma_fast  = qnta.sma(close, 20)\n",
        "weights   = xr.where(sma_slow < sma_fast, 1, -1)\n",
        "weights   = weights * is_liquid\n",
        "\n",
        "weights = qnout.clean(weights, data, \"stocks_nasdaq100\")\n",
        "\n",
        "# calc stats\n",
        "stats = qns.calc_stat(data, weights.sel(time=slice(\"2006-01-01\", None)))\n",
        "display(stats.to_pandas().tail())\n",
        "\n",
        "# graph\n",
        "performance = stats.to_pandas()[\"equity\"]\n",
        "import qnt.graph as qngraph\n",
        "\n",
        "qngraph.make_plot_filled(performance.index, performance, name=\"PnL (Equity)\", type=\"log\")"
      ]
    },
    {
      "cell_type": "code",
      "execution_count": null,
      "metadata": {
        "id": "idYiuSghmwo6",
        "outputId": "715efaa8-1460-4e3b-aff7-8178976d64a7"
      },
      "outputs": [
        {
          "name": "stdout",
          "output_type": "stream",
          "text": [
            "Check liquidity...\n",
            "Ok.\n",
            "Check missed dates...\n",
            "Ok.\n",
            "Check the sharpe ratio...\n"
          ]
        },
        {
          "name": "stderr",
          "output_type": "stream",
          "text": [
            "WARNING! There are not enough points in the output.\n",
            "The output series should start from 2006-01-01 or earlier instead of 2022-04-04\n"
          ]
        },
        {
          "name": "stdout",
          "output_type": "stream",
          "text": [
            "Period: 2006-01-01 - 2022-10-13\n",
            "Sharpe Ratio = 0.02427367104943402\n"
          ]
        },
        {
          "name": "stderr",
          "output_type": "stream",
          "text": [
            "ERROR! The Sharpe Ratio is too low. 0.02427367104943402 < 1\n",
            "Improve the strategy and make sure that the in-sample Sharpe Ratio more than 1.\n"
          ]
        },
        {
          "name": "stdout",
          "output_type": "stream",
          "text": [
            "Check correlation.\n",
            "\n",
            "Ok. This strategy does not correlate with other strategies.\n",
            "Write output: /root/fractions.nc.gz\n"
          ]
        }
      ],
      "source": [
        "weights = weights.sel(time=slice(\"2006-01-01\",None))\n",
        "\n",
        "qnout.check(weights, data, \"stocks_nasdaq100\")\n",
        "qnout.write(weights) # to participate in the competition"
      ]
    },
    {
      "cell_type": "code",
      "execution_count": null,
      "metadata": {
        "id": "LqI4qUnomwo_"
      },
      "outputs": [],
      "source": [
        "##Dataframe with sharpes"
      ]
    },
    {
      "cell_type": "code",
      "execution_count": null,
      "metadata": {
        "id": "AIhvRe1TmwpE",
        "outputId": "181c9fb7-8235-4cfa-8bee-e4457d2e086a"
      },
      "outputs": [
        {
          "data": {
            "text/html": [
              "<div>\n",
              "<style scoped>\n",
              "    .dataframe tbody tr th:only-of-type {\n",
              "        vertical-align: middle;\n",
              "    }\n",
              "\n",
              "    .dataframe tbody tr th {\n",
              "        vertical-align: top;\n",
              "    }\n",
              "\n",
              "    .dataframe thead th {\n",
              "        text-align: right;\n",
              "    }\n",
              "</style>\n",
              "<table border=\"1\" class=\"dataframe\">\n",
              "  <thead>\n",
              "    <tr style=\"text-align: right;\">\n",
              "      <th></th>\n",
              "      <th>Short</th>\n",
              "      <th>Long</th>\n",
              "      <th>Sharpe (6 moths)</th>\n",
              "      <th>Sharpe (2 years)</th>\n",
              "      <th>Average_Sharpe</th>\n",
              "    </tr>\n",
              "  </thead>\n",
              "  <tbody>\n",
              "    <tr>\n",
              "      <th>0</th>\n",
              "      <td>10</td>\n",
              "      <td>100</td>\n",
              "      <td>0.021767</td>\n",
              "      <td>-0.088734</td>\n",
              "      <td>-0.033483</td>\n",
              "    </tr>\n",
              "    <tr>\n",
              "      <th>1</th>\n",
              "      <td>25</td>\n",
              "      <td>100</td>\n",
              "      <td>0.004343</td>\n",
              "      <td>-0.115289</td>\n",
              "      <td>-0.055473</td>\n",
              "    </tr>\n",
              "    <tr>\n",
              "      <th>2</th>\n",
              "      <td>40</td>\n",
              "      <td>100</td>\n",
              "      <td>-0.015595</td>\n",
              "      <td>-0.165314</td>\n",
              "      <td>-0.090455</td>\n",
              "    </tr>\n",
              "    <tr>\n",
              "      <th>3</th>\n",
              "      <td>10</td>\n",
              "      <td>250</td>\n",
              "      <td>-0.132920</td>\n",
              "      <td>-0.274127</td>\n",
              "      <td>-0.203524</td>\n",
              "    </tr>\n",
              "    <tr>\n",
              "      <th>4</th>\n",
              "      <td>25</td>\n",
              "      <td>250</td>\n",
              "      <td>-0.139409</td>\n",
              "      <td>-0.289684</td>\n",
              "      <td>-0.214546</td>\n",
              "    </tr>\n",
              "    <tr>\n",
              "      <th>5</th>\n",
              "      <td>40</td>\n",
              "      <td>250</td>\n",
              "      <td>-0.166913</td>\n",
              "      <td>-0.311062</td>\n",
              "      <td>-0.238988</td>\n",
              "    </tr>\n",
              "    <tr>\n",
              "      <th>6</th>\n",
              "      <td>10</td>\n",
              "      <td>400</td>\n",
              "      <td>-0.081259</td>\n",
              "      <td>-0.231333</td>\n",
              "      <td>-0.156296</td>\n",
              "    </tr>\n",
              "    <tr>\n",
              "      <th>7</th>\n",
              "      <td>25</td>\n",
              "      <td>400</td>\n",
              "      <td>-0.087064</td>\n",
              "      <td>-0.267908</td>\n",
              "      <td>-0.177486</td>\n",
              "    </tr>\n",
              "    <tr>\n",
              "      <th>8</th>\n",
              "      <td>40</td>\n",
              "      <td>400</td>\n",
              "      <td>-0.087064</td>\n",
              "      <td>-0.278026</td>\n",
              "      <td>-0.182545</td>\n",
              "    </tr>\n",
              "  </tbody>\n",
              "</table>\n",
              "</div>"
            ],
            "text/plain": [
              "   Short  Long  Sharpe (6 moths)  Sharpe (2 years)  Average_Sharpe\n",
              "0     10   100          0.021767         -0.088734       -0.033483\n",
              "1     25   100          0.004343         -0.115289       -0.055473\n",
              "2     40   100         -0.015595         -0.165314       -0.090455\n",
              "3     10   250         -0.132920         -0.274127       -0.203524\n",
              "4     25   250         -0.139409         -0.289684       -0.214546\n",
              "5     40   250         -0.166913         -0.311062       -0.238988\n",
              "6     10   400         -0.081259         -0.231333       -0.156296\n",
              "7     25   400         -0.087064         -0.267908       -0.177486\n",
              "8     40   400         -0.087064         -0.278026       -0.182545"
            ]
          },
          "execution_count": 8,
          "metadata": {},
          "output_type": "execute_result"
        }
      ],
      "source": [
        "import pandas as pd\n",
        "import numpy as np\n",
        "short = [10,25,40,10,25,40,10,25,40]\n",
        "long_=[100,100,100,250,250,250,400,400,400]\n",
        "sharpe_6_months=[0.021767179415481893,0.00434341653161672,-0.01559533273754647,-0.13292000084954408,-0.13940874572919454,-0.16691280980363335,-0.08125886705443708,-0.08706399625816859,-0.08706399625816859]\n",
        "sharpe_24_months=[-0.08873376182347817,-0.11528871568413025,-0.165314030780934,-0.2741270382660292,-0.28968412431847335,-0.3110623762156927,-0.2313330171987552,-0.2679075179360961,-0.2780255209409217]\n",
        "df = pd.DataFrame({\"Short\": short, \"Long\":long_, \"Sharpe (6 moths)\": sharpe_6_months,\"Sharpe (2 years)\": sharpe_24_months})\n",
        "df[\"Average_Sharpe\"]=(df[\"Sharpe (6 moths)\"]+df[\"Sharpe (2 years)\"])/2\n",
        "df"
      ]
    },
    {
      "cell_type": "markdown",
      "metadata": {
        "id": "8GLYKXDSmwpH"
      },
      "source": [
        "# Description\n",
        "\n",
        "## 1. Data\n",
        "\n",
        "![data_example](./img/data.jpg)\n",
        "\n",
        "The variable **qndata.stocks.load_ndx_data(tail=period)** is an xarray.DataArray structure which contains historical market data for the last (tail=period) days and whose coordinates are:\n",
        "\n",
        "* **time**: a date in format yyyy-mm-dd;\n",
        "* **field**: an attribute, for example the opening daily price;\n",
        "* **asset**: the identifying symbol for the asset, for example NAS:APPL for Apple.\n",
        "\n",
        "More details on xarray can be found at https://xarray.pydata.org/en/stable/.\n",
        "\n",
        "## 2. Strategy. Weights allocation\n",
        "\n",
        "\n",
        "![weights_example](./img/weights.jpg)\n",
        "\n",
        "For each date, the algorithm calculates the portfolio weights which should be used at the opening of the next day's trading.\n",
        "\n",
        "Quantiacs uses an exposure-based backtester. The trading algorithm should define the fractions of capital which will be distributed to the assets (allocation weights). A **positive** weight means a long position (**buy**), a **negative** value means a short position (**sell**).\n",
        "\n",
        "> Note that algorithm decisions can use all data available at the close of the session, and will be applied at the opening of the next day's session. The chosen allocation weights are translated to positions (number of contracts to be bought/sold) immediately after the close of the session and transactions are executed at the open of the next day.\n",
        "\n",
        "\n",
        "## 3. Performance estimation\n",
        "\n",
        "![statistic_example](./img/statistic.png)\n",
        "\n",
        "After we have built the algorithm, we can evaluate its performance calculating statistics.\n",
        "\n",
        "We can display the values of statistical indicators on a cumulative basis, assuming that we have 1M USD at the starting point.\n",
        "\n",
        "The call will produce:\n",
        "\n",
        "* **equity**: the cumulative value of profits and losses since inception (1M USD);\n",
        "* **relative_return**: the relative daily variation of **equity**;\n",
        "* **volatility**: the volatility of the investment since inception (i.e. the annualized standard deviation of the daily returns);\n",
        "* **underwater**: the time evolution of drawdowns;\n",
        "* **max_drawdown**: the absolute minimum of the underwater chart;\n",
        "* **sharpe_ratio**: the annualized Sharpe ratio since inception; the value must be larger than 1 for taking part to contests;\n",
        "* **mean_return**: the annualized mean return of the investment since inception;\n",
        "* **bias**: the daily asymmetry between long and short exposure: 1 for a long-only system, -1 for a short-only one;\n",
        "* **instruments**: the number of instruments which get allocations on a given day;\n",
        "* **avg_turnover**: the average turnover;\n",
        "* **avg_holding_time**: the average holding time in days.\n",
        "\n",
        "A detailed explanation can be found inspecting the source code for the library in your directory at **/qnt/stats.py**\n",
        "\n",
        "Moreover we can produce a chart which shows the cumulative profits and losses."
      ]
    },
    {
      "cell_type": "markdown",
      "metadata": {
        "id": "8u7ozxbkmwpT"
      },
      "source": [
        "# Alternative way of writing strategies\n",
        "\n",
        "A quick prototpye can be written using a single-pass implementation where all the time series are processed at once. Beware that unintentional forward looking can take place!\n",
        "\n",
        "> If strategy sharpe coefficient in the competition differs from the sharpe coefficient in jupyter, rewrite the strategy for Multi-Pass\n",
        "\n",
        "<br>\n",
        "\n",
        "\n",
        "<table style=\"text-align: left ; font-size: 1em ; min-width: 1000px\">\n",
        "<tbody><tr>\n",
        "<td style=\"text-align: left\"> Single-pass (quick check of the result)</td> <td style=\"text-align: left\"> Multi-Pass equivalent</td>\n",
        "</tr>\n",
        "<tr>\n",
        "<td style=\"text-align: left ; min-width: 500px\">\n",
        "\n",
        "<pre><code class=\"cm-s-ipython language-python\"><span style=\" color: #008000;  font-weight: bold;\">import</span> <span class=\"cm-variable\">xarray</span> <span style=\" color: #008000;  font-weight: bold;\">as</span> <span class=\"cm-variable\">xr</span>\n",
        "\n",
        "<span style=\" color: #008000;  font-weight: bold;\">import</span> <span class=\"cm-variable\">qnt</span>.<span class=\"cm-property\">ta</span> <span style=\" color: #008000;  font-weight: bold;\">as</span> <span class=\"cm-variable\">qnta</span>\n",
        "<span style=\" color: #008000;  font-weight: bold;\">import</span> <span class=\"cm-variable\">qnt</span>.<span class=\"cm-property\">data</span> <span style=\" color: #008000;  font-weight: bold;\">as</span> <span class=\"cm-variable\">qndata</span>\n",
        "<span style=\" color: #008000;  font-weight: bold;\">import</span> <span class=\"cm-variable\">qnt</span>.<span class=\"cm-property\">output</span> <span style=\" color: #008000;  font-weight: bold;\">as</span> <span class=\"cm-variable\">qnout</span>\n",
        "<span style=\" color: #008000;  font-weight: bold;\">import</span> <span class=\"cm-variable\">qnt</span>.<span class=\"cm-property\">stats</span> <span style=\" color: #008000;  font-weight: bold;\">as</span> <span class=\"cm-variable\">qns</span>\n",
        "\n",
        "<span class=\"cm-variable\">data</span> <span class=\"cm-operator\">=</span> <span class=\"cm-variable\">qndata</span>.<span class=\"cm-property\">stocks</span>.<span class=\"cm-property\">load_ndx_data</span>(<span class=\"cm-variable\">min_date</span><span class=\"cm-operator\">=</span><span style=\" color: #BA2121;\">\"2006-01-01\"</span>)\n",
        "\n",
        "<span class=\"cm-variable\">close</span>     <span class=\"cm-operator\">=</span> <span class=\"cm-variable\">data</span>.<span class=\"cm-property\">sel</span>(<span class=\"cm-variable\">field</span><span class=\"cm-operator\">=</span><span style=\" color: #BA2121;\">\"close\"</span>)\n",
        "<span class=\"cm-variable\">is_liquid</span> <span class=\"cm-operator\">=</span> <span class=\"cm-variable\">data</span>.<span class=\"cm-property\">sel</span>(<span class=\"cm-variable\">field</span><span class=\"cm-operator\">=</span><span style=\" color: #BA2121;\">\"is_liquid\"</span>)\n",
        "<span class=\"cm-variable\">sma_slow</span>  <span class=\"cm-operator\">=</span> <span class=\"cm-variable\">qnta</span>.<span class=\"cm-property\">sma</span>(<span class=\"cm-variable\">close</span>, <span style=\" color: #080;\">200</span>)\n",
        "<span class=\"cm-variable\">sma_fast</span>  <span class=\"cm-operator\">=</span> <span class=\"cm-variable\">qnta</span>.<span class=\"cm-property\">sma</span>(<span class=\"cm-variable\">close</span>, <span style=\" color: #080;\">20</span>)\n",
        "<span class=\"cm-variable\">weights</span>   <span class=\"cm-operator\">=</span> <span class=\"cm-variable\">xr</span>.<span class=\"cm-property\">where</span>(<span class=\"cm-variable\">sma_slow</span> <span class=\"cm-operator\">&lt;</span> <span class=\"cm-variable\">sma_fast</span>, <span style=\" color: #080;\">1</span>, <span class=\"cm-operator\">-</span><span style=\" color: #080;\">1</span>)\n",
        "<span class=\"cm-variable\">weights</span>   <span class=\"cm-operator\">=</span> <span class=\"cm-variable\">weights</span> <span class=\"cm-operator\">*</span> <span class=\"cm-variable\">is_liquid</span>\n",
        "\n",
        "<span class=\"cm-variable\">weights</span> <span class=\"cm-operator\">=</span> <span class=\"cm-variable\">qnout</span>.<span class=\"cm-property\">clean</span>(<span class=\"cm-variable\">weights</span>, <span class=\"cm-variable\">data</span>, <span style=\" color: #BA2121;\">\"stocks_nasdaq100\"</span>)\n",
        "\n",
        "<span class=\"cm-variable\">qnout</span>.<span class=\"cm-property\">check</span>(<span class=\"cm-variable\">weights</span>, <span class=\"cm-variable\">data</span>, <span style=\" color: #BA2121;\">\"stocks_nasdaq100\"</span>)\n",
        "\n",
        "<span class=\"cm-variable\">qnout</span>.<span class=\"cm-property\">write</span>(<span class=\"cm-variable\">weights</span>)\n",
        "\n",
        "<span class=\"cm-comment\"># calc stats</span>\n",
        "<span class=\"cm-variable\">stats</span> <span class=\"cm-operator\">=</span> <span class=\"cm-variable\">qns</span>.<span class=\"cm-property\">calc_stat</span>(<span class=\"cm-variable\">data</span>, <span class=\"cm-variable\">weights</span>.<span class=\"cm-property\">sel</span>(<span class=\"cm-variable\">time</span><span class=\"cm-operator\">=</span><span class=\"cm-builtin\">slice</span>(<span style=\" color: #BA2121;\">\"2006-01-01\"</span>,<span style=\" color: #008000;  font-weight: bold;\">None</span>)))\n",
        "<span class=\"cm-variable\">stats</span>.<span class=\"cm-property\">to_pandas</span>().<span class=\"cm-property\">tail</span>()</code></pre>\n",
        "</td>\n",
        "<td style=\"text-align: left ; min-width: 500px\">\n",
        "\n",
        "<pre><code class=\"cm-s-ipython language-python\"><span style=\" color: #008000;  font-weight: bold;\">import</span> <span class=\"cm-variable\">xarray</span> <span style=\" color: #008000;  font-weight: bold;\">as</span> <span class=\"cm-variable\">xr</span>\n",
        "\n",
        "<span style=\" color: #008000;  font-weight: bold;\">import</span> <span class=\"cm-variable\">qnt</span>.<span class=\"cm-property\">ta</span> <span style=\" color: #008000;  font-weight: bold;\">as</span> <span class=\"cm-variable\">qnta</span>\n",
        "<span style=\" color: #008000;  font-weight: bold;\">import</span> <span class=\"cm-variable\">qnt</span>.<span class=\"cm-property\">backtester</span> <span style=\" color: #008000;  font-weight: bold;\">as</span> <span class=\"cm-variable\">qnbt</span>\n",
        "<span style=\" color: #008000;  font-weight: bold;\">import</span> <span class=\"cm-variable\">qnt</span>.<span class=\"cm-property\">data</span> <span style=\" color: #008000;  font-weight: bold;\">as</span> <span class=\"cm-variable\">qndata</span>\n",
        "\n",
        "\n",
        "\n",
        "<span style=\" color: #008000;  font-weight: bold;\">def</span> <span style=\" color:  #00f;\">load_data</span>(<span class=\"cm-variable\">period</span>):\n",
        "    <span style=\" color: #008000;  font-weight: bold;\">return</span> <span class=\"cm-variable\">qndata</span>.<span class=\"cm-property\">stocks</span>.<span class=\"cm-property\">load_ndx_data</span>(<span class=\"cm-variable\">tail</span><span class=\"cm-operator\">=</span><span class=\"cm-variable\">period</span>)\n",
        "\n",
        "\n",
        "\n",
        "<span style=\" color: #008000;  font-weight: bold;\">def</span> <span style=\" color:  #00f;\">strategy</span>(<span class=\"cm-variable\">data</span>):\n",
        "    <span class=\"cm-variable\">close</span>     <span class=\"cm-operator\">=</span> <span class=\"cm-variable\">data</span>.<span class=\"cm-property\">sel</span>(<span class=\"cm-variable\">field</span><span class=\"cm-operator\">=</span><span style=\" color: #BA2121;\">\"close\"</span>)\n",
        "    <span class=\"cm-variable\">is_liquid</span> <span class=\"cm-operator\">=</span> <span class=\"cm-variable\">data</span>.<span class=\"cm-property\">sel</span>(<span class=\"cm-variable\">field</span><span class=\"cm-operator\">=</span><span style=\" color: #BA2121;\">\"is_liquid\"</span>)\n",
        "    <span class=\"cm-variable\">sma_slow</span>  <span class=\"cm-operator\">=</span> <span class=\"cm-variable\">qnta</span>.<span class=\"cm-property\">sma</span>(<span class=\"cm-variable\">close</span>, <span style=\" color: #080;\">200</span>).<span class=\"cm-property\">isel</span>(<span class=\"cm-variable\">time</span><span class=\"cm-operator\">=</span><span class=\"cm-operator\">-</span><span style=\" color: #080;\">1</span>)\n",
        "    <span class=\"cm-variable\">sma_fast</span>  <span class=\"cm-operator\">=</span> <span class=\"cm-variable\">qnta</span>.<span class=\"cm-property\">sma</span>(<span class=\"cm-variable\">close</span>, <span style=\" color: #080;\">20</span>).<span class=\"cm-property\">isel</span>(<span class=\"cm-variable\">time</span><span class=\"cm-operator\">=</span><span class=\"cm-operator\">-</span><span style=\" color: #080;\">1</span>)\n",
        "    <span class=\"cm-variable\">weights</span>   <span class=\"cm-operator\">=</span> <span class=\"cm-variable\">xr</span>.<span class=\"cm-property\">where</span>(<span class=\"cm-variable\">sma_slow</span> <span class=\"cm-operator\">&lt;</span> <span class=\"cm-variable\">sma_fast</span>, <span style=\" color: #080;\">1</span>, <span class=\"cm-operator\">-</span><span style=\" color: #080;\">1</span>)\n",
        "    <span class=\"cm-variable\">weights</span>   <span class=\"cm-operator\">=</span> <span class=\"cm-variable\">weights</span> <span class=\"cm-operator\">*</span> <span class=\"cm-variable\">is_liquid</span>\n",
        "    <span style=\" color: #008000;  font-weight: bold;\">return</span> <span class=\"cm-variable\">weights</span>\n",
        "\n",
        "\n",
        "\n",
        "<span class=\"cm-variable\">weights</span> <span class=\"cm-operator\">=</span> <span class=\"cm-variable\">qnbt</span>.<span class=\"cm-property\">backtest</span>(\n",
        "    <span class=\"cm-variable\">competition_type</span> <span class=\"cm-operator\">=</span> <span style=\" color: #BA2121;\">\"stocks_nasdaq100\"</span>,\n",
        "    <span class=\"cm-variable\">load_data</span>        <span class=\"cm-operator\">=</span> <span class=\"cm-variable\">load_data</span>,\n",
        "    <span class=\"cm-variable\">lookback_period</span>  <span class=\"cm-operator\">=</span> <span style=\" color: #080;\">365</span><span class=\"cm-operator\">*</span><span style=\" color: #080;\">4</span>,\n",
        "    <span class=\"cm-variable\">start_date</span>       <span class=\"cm-operator\">=</span> <span style=\" color: #BA2121;\">\"2006-01-01\"</span>,\n",
        "    <span class=\"cm-variable\">strategy</span>         <span class=\"cm-operator\">=</span> <span class=\"cm-variable\">strategy</span>,\n",
        "    <span class=\"cm-variable\">analyze</span>          <span class=\"cm-operator\">=</span> <span style=\" color: #008000;  font-weight: bold;\">True</span>,\n",
        "    <span class=\"cm-variable\">build_plots</span>      <span class=\"cm-operator\">=</span> <span style=\" color: #008000;  font-weight: bold;\">True</span>\n",
        ")</code></pre>\n",
        "</td>\n",
        "</tr>\n",
        "</tbody></table>"
      ]
    },
    {
      "cell_type": "markdown",
      "metadata": {
        "id": "Dq3fq8oUmwpY"
      },
      "source": [
        "# Example of a strategy using technical analysis indicators\n",
        "\n",
        "The example of a strategy with a sharpe ratio of 0.9615 trading 215 financial instruments\n",
        "\n",
        "The strategy use sma, ema, adl (Advance–Decline line)\n",
        "\n",
        "\n",
        "\n",
        "\n",
        "```python\n",
        "from IPython.display import display\n",
        "import xarray as xr\n",
        "import qnt.data as qndata\n",
        "import qnt.output as qnout\n",
        "import qnt.ta as qnta\n",
        "import qnt.stats as qns\n",
        "\n",
        "data = qndata.stocks.load_ndx_data(min_date=\"2005-01-01\")\n",
        "\n",
        "\n",
        "def get_strategy_1(data, params):\n",
        "    buy = 1\n",
        "    not_trade = 0\n",
        "    close = data.sel(field=\"close\")\n",
        "\n",
        "    strategy_1 = xr.where(qnta.sma(close, params[1]) > qnta.sma(close, params[0]), buy, not_trade)\n",
        "    strategy_2 = xr.where(qnta.ema(close, params[2]) > qnta.ema(close, params[3]), buy, not_trade)\n",
        "\n",
        "    weights = strategy_1 * strategy_2 * data.sel(field=\"is_liquid\")\n",
        "    weights = weights / 100.0\n",
        "    return weights.fillna(0)\n",
        "\n",
        "\n",
        "def get_strategy_2(data, params):\n",
        "    buy = 1\n",
        "    not_trade = 0\n",
        "    close = data.sel(field=\"close\") * data.sel(field=\"is_liquid\")\n",
        "\n",
        "    adl = qnta.ad_line(close) * 1.0\n",
        "    adl_dif = adl.shift(time=params[0]) - adl.shift(time=params[1])\n",
        "    positive_trend = adl_dif > 0\n",
        "    strategy_1 = xr.where(positive_trend, buy, not_trade)\n",
        "\n",
        "    weights = strategy_1 * data.sel(field=\"is_liquid\")\n",
        "    return weights.fillna(0)\n",
        "\n",
        "\n",
        "weights_1 = get_strategy_1(data, [25, 40, 12, 132])  # 0.6108887689714039 Sharpe Ratio\n",
        "weights_2 = get_strategy_2(data, [34, 183])  # 0.6012686822757577\n",
        "\n",
        "weights_all = 2 * weights_1 * weights_2 - weights_1\n",
        "weights = qnout.clean(output=weights_all, data=data, kind=\"stocks_nasdaq100\")  # 0.9615\n",
        "\n",
        "qnout.check(weights, data, \"stocks_nasdaq100\")\n",
        "qnout.write(weights)\n",
        "```"
      ]
    },
    {
      "cell_type": "markdown",
      "metadata": {
        "id": "gHsFJaF_mwpk"
      },
      "source": [
        "# What libraries are available?\n",
        "\n",
        "```python\n",
        "# Import basic libraries.\n",
        "import xarray as xr\n",
        "import pandas as pd\n",
        "import numpy as np\n",
        "\n",
        "# Import quantnet libraries.\n",
        "import qnt.data    as qndata  # load and manipulate data\n",
        "import qnt.output as output   # manage output\n",
        "import qnt.backtester as qnbt # backtester\n",
        "import qnt.stats   as qnstats # statistical functions for analysis\n",
        "import qnt.graph   as qngraph # graphical tools\n",
        "import qnt.ta      as qnta    # indicators library\n",
        "```"
      ]
    },
    {
      "cell_type": "markdown",
      "metadata": {
        "id": "AeW2EHmvmwpo"
      },
      "source": [
        "# May I import libraries?\n",
        "\n",
        "Yes, please refer to the file **init.ipynb** in your home directory. You can for example use:\n",
        "\n",
        "```\n",
        "! conda install -y scikit-learn\n",
        "```"
      ]
    },
    {
      "cell_type": "markdown",
      "metadata": {
        "id": "mENhU1aCmwpq"
      },
      "source": [
        "# How to load data?\n",
        "\n",
        "Daily stock data for the **Q18 Nasdaq-100** contest can be loaded using:\n",
        "```python\n",
        "data = qndata.stocks.load_ndx_data(tail = 17*365, dims = (\"time\", \"field\", \"asset\"))\n",
        "```\n",
        "\n",
        "Cryptocurrency daily data used for the Q16/Q17 contests can be loaded using:\n",
        "```python\n",
        "data = qndata.cryptodaily.load_data(tail = 17*365, dims = (\"time\", \"field\", \"asset\"))\n",
        "```\n",
        "\n",
        "Futures data for the Q15 contest can be loaded using:\n",
        "```python\n",
        "data= qndata.futures.load_data(tail = 17*365, dims = (\"time\", \"field\", \"asset\"))\n",
        "```\n",
        "\n",
        "BTC Futures data for the Q15 contest can be loaded using:\n",
        "```python\n",
        "data= qndata.cryptofutures.load_data(tail = 17*365, dims = (\"time\", \"field\", \"asset\"))\n",
        "```"
      ]
    },
    {
      "cell_type": "markdown",
      "metadata": {
        "id": "EYRsvEz7mwpt"
      },
      "source": [
        "# How to view a list of all tickers?\n",
        "\n",
        "```python\n",
        "data.asset.to_pandas().to_list()\n",
        "```"
      ]
    },
    {
      "cell_type": "markdown",
      "metadata": {
        "id": "sGwha63nmwpv"
      },
      "source": [
        "# How to see which fields are available?\n",
        "\n",
        "```python\n",
        "data.field.to_pandas().to_list()\n",
        "```"
      ]
    },
    {
      "cell_type": "markdown",
      "metadata": {
        "id": "QKLovBP8mwpx"
      },
      "source": [
        "# How to load specific tickers?\n",
        "\n",
        "```python\n",
        "data = qndata.stocks.load_ndx_data(tail=17 * 365, assets=[\"NAS:AAPL\", \"NAS:AMZN\"])\n",
        "```"
      ]
    },
    {
      "cell_type": "markdown",
      "metadata": {
        "id": "vUwYa5FQmwp0"
      },
      "source": [
        "# How to select specific tickers after loading all data?\n",
        "\n",
        "```python\n",
        "def get_data_filter(data, assets):\n",
        "    filler= data.sel(asset=assets)\n",
        "    return filler\n",
        "\n",
        "get_data_filter(data, [\"NAS:AAPL\", \"NAS:AMZN\"])\n",
        "```"
      ]
    },
    {
      "cell_type": "markdown",
      "metadata": {
        "id": "fC5gWi7Jmwp3"
      },
      "source": [
        "# How to get the prices for the previous day?\n",
        "\n",
        "```python\n",
        "qnta.shift(data.sel(field=\"open\"), periods=1)\n",
        "```\n",
        "\n",
        "or:\n",
        "\n",
        "```python\n",
        "data.sel(field=\"open\").shift(time=1)\n",
        "```"
      ]
    },
    {
      "cell_type": "markdown",
      "metadata": {
        "id": "Mna8BauKmwp5"
      },
      "source": [
        "# How to get the Sharpe ratio?\n",
        "\n",
        "```python\n",
        "import qnt.stats as qnstats\n",
        "\n",
        "def get_sharpe(market_data, weights):\n",
        "    rr = qnstats.calc_relative_return(market_data, weights)\n",
        "    sharpe = qnstats.calc_sharpe_ratio_annualized(rr).values[-1]\n",
        "    return sharpe\n",
        "\n",
        "sharpe = get_sharpe(data, weights) # weights.sel(time=slice(\"2006-01-01\",None))\n",
        "```"
      ]
    },
    {
      "cell_type": "markdown",
      "metadata": {
        "id": "Draf1g1mmwp8"
      },
      "source": [
        "# How do I get a list of the top 3 assets ranked by Sharpe ratio?\n",
        "\n",
        "```python\n",
        "import qnt.stats as qnstats\n",
        "\n",
        "data = qndata.stocks.load_ndx_data(tail = 17*365, dims = (\"time\", \"field\", \"asset\"))\n",
        "\n",
        "def get_best_instruments(data, weights, top_size):\n",
        "    # compute statistics:\n",
        "    stats_per_asset = qnstats.calc_stat(data, weights, per_asset=True)\n",
        "    # calculate ranks of assets by \"sharpe_ratio\":\n",
        "    ranks = (-stats_per_asset.sel(field=\"sharpe_ratio\")).rank(\"asset\")\n",
        "    # select top assets by rank \"top_period\" days ago:\n",
        "    top_period = 1\n",
        "    rank = ranks.isel(time=-top_period)\n",
        "    top = rank.where(rank <= top_size).dropna(\"asset\").asset\n",
        "\n",
        "    # select top stats:\n",
        "    top_stats = stats_per_asset.sel(asset=top.values)\n",
        "\n",
        "    # print results:\n",
        "    print(\"SR tail of the top assets:\")\n",
        "    display(top_stats.sel(field=\"sharpe_ratio\").to_pandas().tail())\n",
        "\n",
        "    print(\"avg SR = \", top_stats[-top_period:].sel(field=\"sharpe_ratio\").mean(\"asset\")[-1].item())\n",
        "    display(top_stats)\n",
        "    return top_stats.coords[\"asset\"].values\n",
        "\n",
        "get_best_instruments(data, weights, 3)\n",
        "```"
      ]
    },
    {
      "cell_type": "markdown",
      "metadata": {
        "id": "sk3FLzAgmwp-"
      },
      "source": [
        "# How can I check the results for only the top 3 assets ranked by Sharpe ratio?\n",
        "\n",
        "Select the top assets and then load their data:\n",
        "\n",
        "```python\n",
        "best_assets= get_best_instruments(data, weights, 3)\n",
        "\n",
        "data= qndata.stocks.load_ndx_data(tail = 17*365, assets=best_assets)\n",
        "```"
      ]
    },
    {
      "cell_type": "markdown",
      "metadata": {
        "id": "H0FUBugHmwqA"
      },
      "source": [
        "# How can prices be processed?\n",
        "\n",
        "Simply import standard libraries, for example **numpy**:\n",
        "\n",
        "```python\n",
        "import numpy as np\n",
        "\n",
        "high= np.log(data.sel(field=\"high\"))\n",
        "```"
      ]
    },
    {
      "cell_type": "markdown",
      "metadata": {
        "id": "TYCN1S8SmwqC"
      },
      "source": [
        "# How can you reduce slippage impace when trading?\n",
        "\n",
        "Just apply some technique to reduce turnover:\n",
        "\n",
        "```python\n",
        "def get_lower_slippage(weights, rolling_time=6):\n",
        "    return weights.rolling({\"time\": rolling_time}).max()\n",
        "\n",
        "improved_weights = get_lower_slippage(weights, rolling_time=6)\n",
        "```"
      ]
    },
    {
      "cell_type": "markdown",
      "metadata": {
        "id": "DxbCRkzwmwqE"
      },
      "source": [
        "# How to use technical analysis indicators?\n",
        "\n",
        "For available indicators see the source code of the library: /qnt/ta\n",
        "\n",
        "## ATR\n",
        "\n",
        "```python\n",
        "def get_atr(data, days=14):\n",
        "    high = data.sel(field=\"high\") * 1.0 \n",
        "    low  = data.sel(field=\"low\") * 1.0 \n",
        "    close= data.sel(field=\"close\") * 1.0\n",
        "\n",
        "    return qnta.atr(high, low, close, days)\n",
        "\n",
        "atr= get_atr(data, days=14)\n",
        "```\n",
        "\n",
        "## EMA\n",
        "\n",
        "```python\n",
        "prices= data.sel(field=\"high\")\n",
        "prices_ema= qnta.ema(prices, 15)\n",
        "```\n",
        "\n",
        "## TRIX\n",
        "\n",
        "```python\n",
        "prices= data.sel(field=\"high\")\n",
        "prices_trix= qnta.trix(prices, 15)\n",
        "```\n",
        "\n",
        "## ADL and EMA\n",
        "\n",
        "```python\n",
        "adl= qnta.ad_line(data.sel(field=\"close\")) * 1.0 \n",
        "adl_ema= qnta.ema(adl, 18)\n",
        "```"
      ]
    },
    {
      "cell_type": "markdown",
      "metadata": {
        "id": "kJ5KWUXNmwqG"
      },
      "source": [
        "# How can you check the quality of your strategy?\n",
        "\n",
        "```python\n",
        "import qnt.output as qnout\n",
        "qnout.check(weights, data, \"stocks_nasdaq100\")\n",
        "```\n",
        "\n",
        "or\n",
        "\n",
        "```python\n",
        "stat= qnstats.calc_stat(data, weights)\n",
        "display(stat.to_pandas().tail())\n",
        "```\n",
        "\n",
        "or\n",
        "\n",
        "```python\n",
        "import qnt.graph   as qngraph\n",
        "statistics= qnstats.calc_stat(data, weights)\n",
        "display(statistics.to_pandas().tail())\n",
        "\n",
        "performance= statistics.to_pandas()[\"equity\"]\n",
        "qngraph.make_plot_filled(performance.index, performance, name=\"PnL (Equity)\", type=\"log\")\n",
        "\n",
        "display(statistics[-1:].sel(field = [\"sharpe_ratio\"]).transpose().to_pandas())\n",
        "qnstats.print_correlation(weights, data)\n",
        "\n",
        "```"
      ]
    },
    {
      "cell_type": "markdown",
      "metadata": {
        "id": "FB1nXwODmwqK"
      },
      "source": [
        "# An example using pandas\n",
        "\n",
        "One can work with pandas DataFrames at intermediate steps and at the end convert them to xarray data structures:\n",
        "\n",
        "```python\n",
        "def get_price_pct_change(prices):\n",
        "    prices_pandas = prices.to_pandas()\n",
        "    assets = data.coords[\"asset\"].values\n",
        "    for asset in assets:\n",
        "        prices_pandas[asset] = prices_pandas[asset].pct_change()\n",
        "    return prices_pandas\n",
        "\n",
        "prices = data.sel(field=\"close\") * 1.0\n",
        "prices_pct_change = get_price_pct_change(prices).unstack().to_xarray()\n",
        "```"
      ]
    },
    {
      "cell_type": "markdown",
      "metadata": {
        "id": "3Lw_95hGmwqN"
      },
      "source": [
        "# Disable widget scrolling\n",
        "```javascript\n",
        "%%javascript\n",
        "window.IPython && (IPython.OutputArea.prototype._should_scroll = function(lines) { return false; })\n",
        "// disable widget scrolling\n",
        "```"
      ]
    },
    {
      "cell_type": "markdown",
      "metadata": {
        "id": "PTTLUPczmwqO"
      },
      "source": [
        "# How can I combine datasets?\n",
        "\n",
        "Let us suppose that we want to use some Futures data as external indicators for taking positions on Nasdaq-100 stocks. This can easily be achieved as follows:\n",
        "\n",
        "```python\n",
        "import xarray as xr\n",
        "import numpy as np\n",
        "\n",
        "import qnt.backtester as qnbt\n",
        "import qnt.data as qndata\n",
        "import qnt.ta as qnta\n",
        "\n",
        "\n",
        "\n",
        "def load_data(period):\n",
        "    futures = qndata.futures.load_data(tail=period, assets=[\"F_DX\"]).isel(asset=0)\n",
        "    stocks  = qndata.stocks.load_ndx_data(tail=period)\n",
        "    return {\"futures\": futures, \"stocks\": stocks}, futures.time.values\n",
        "\n",
        "\n",
        "\n",
        "def window(data, max_date: np.datetime64, lookback_period: int):\n",
        "    min_date = max_date - np.timedelta64(lookback_period, \"D\")\n",
        "    return {\n",
        "        \"futures\": data[\"futures\"].sel(time=slice(min_date, max_date)),\n",
        "        \"stocks\":  data[\"stocks\"].sel(time=slice(min_date, max_date)),\n",
        "    }\n",
        "\n",
        "\n",
        "\n",
        "def strategy(data):\n",
        "    close_futures = data[\"futures\"].sel(field=\"close\")\n",
        "    close_stocks  = data[\"stocks\"].sel(field=\"close\")\n",
        "    sma20 = qnta.sma(close_futures, 20).isel(time=-1)\n",
        "    sma20_stocks = qnta.sma(close_stocks, 20).isel(time=-1)\n",
        "    is_liquid = data[\"stocks\"].sel(field=\"is_liquid\").isel(time=-1)\n",
        "    weights = xr.where(sma20 < sma20_stocks, 1, -1)\n",
        "    weights = weights * is_liquid \n",
        "    weights = weights / 100.0\n",
        "    return weights\n",
        "\n",
        "\n",
        "\n",
        "qnbt.backtest(\n",
        "    competition_type= \"stocks_nasdaq100\",\n",
        "    load_data= load_data,\n",
        "    lookback_period= 365,\n",
        "    start_date= \"2006-01-01\",\n",
        "    strategy= strategy,\n",
        "    window= window\n",
        ")\n",
        "\n",
        "```"
      ]
    },
    {
      "cell_type": "markdown",
      "metadata": {
        "id": "z30ZJrz7mwqP"
      },
      "source": [
        "# How to submit a strategy to the competition?\n",
        "\n",
        "Check that weights are fine:\n",
        "\n",
        "```python\n",
        "import qnt.output as qnout\n",
        "qnout.check(weights, data, \"stocks_nasdaq100\")\n",
        "```\n",
        "\n",
        "If everything is ok, write the weights to file:\n",
        "\n",
        "```python\n",
        "qnout.write(weights)\n",
        "```\n",
        "\n",
        "In your **personal account**:\n",
        "\n",
        "* **choose** a strategy;\n",
        "* click on the **Submit** button;\n",
        "* select the type of competition.\n",
        "\n",
        "At the beginning you will find the strategy under the **Checking** area:\n",
        "\n",
        "* **Sent strategies** > **Checking**. \n",
        "\n",
        "If technical checks are successful, the strategy will go under the **Candidates** area:\n",
        "\n",
        "* **Sent strategies** > **Candidates**. \n",
        "\n",
        "Otherwise it will be **Filtered**:\n",
        "\n",
        "* **Sent strategies** > **Filtered**\n",
        "\n",
        "and you should inspect error and warning messages. \n",
        "\n",
        "Note that a strategy under the **Candidates** area should have a Sharpe ratio larger than 1 for being eligible for a prize. Please check warning messages in your **Candidates** area!\n",
        "\n",
        "\n",
        "Please note that:\n",
        "\n",
        "* Your trading algorithm can open short and long positions.\n",
        "\n",
        "* At each point in time your algorithm can trade all or a subset of the stocks which at that point of time are or were part of the NASDAQ-100 stock index. Note that the composition of this set changes in time, and Quantiacs provides you with an appropriate filter function for selecting them.\n",
        "\n",
        "* The Sharpe ratio of your system since January 1st, 2006, has to be larger than 1.\n",
        "\n",
        "* Your system cannot be a copy of the current examples. We run a correlation filter on the submissions and detect duplicates.\n",
        "\n",
        "More details on the rules can be found [here](https://quantiacs.com/contest).\n"
      ]
    },
    {
      "cell_type": "markdown",
      "metadata": {
        "id": "aWEZMns1mwqR"
      },
      "source": [
        "# How to find good parameters for my algorithm?\n",
        "\n",
        "See examples\n",
        "\n",
        "* Trading System Optimization\n",
        "* Trading System Optimization by Asset\n",
        "\n",
        "\n",
        "Read more on our [article](https://quantiacs.com/community/topic/29/optimizing-and-monitoring-a-trading-system-with-quantiacs).\n",
        "\n",
        "\n"
      ]
    },
    {
      "cell_type": "markdown",
      "metadata": {
        "id": "9aNdBotqmwqS"
      },
      "source": [
        "# The main reasons for submission rejection\n",
        "\n",
        "[Detailed explanation with examples](https://quantiacs.com/documentation/en/user_guide/passFilters.html).\n",
        "\n",
        "## Missed call to write_output\n",
        "\n",
        "Save algorithm weights,  run code\n",
        "\n",
        "```python\n",
        "qnt.output.write(weights)\n",
        "```\n",
        "\n",
        "## Not eligible send to contest. In-Sample Sharpe must be larger than 1\n",
        "\n",
        "Improve your algorithm. Аor example, you can use sections and get an algorithm that will pass the filter\n",
        "\n",
        "* Example of a strategy using technical analysis indicators\n",
        "* How do I get a list of the top 3 assets ranked by Sharpe ratio?\n",
        "\n",
        "**Need help?** Check the [**Documentation**](https://quantiacs.com/documentation/en/) and find solutions/report problems in the [**Forum**](https://quantiacs.com/community/categories) section.\n",
        "\n",
        "\n",
        "## Not enough bid information.\n",
        "\n",
        "Run code\n",
        "\n",
        "```python\n",
        "min_time = weights.time[abs(weights).fillna(0).sum('asset')> 0].min()\n",
        "min_time\n",
        "```\n",
        "> min_time must be less than or equal to January 1, 2006.\n",
        "\n",
        "If min_time is larger than the starting date, we recommend to fill the starting values of the time series with non-vanishing values, for example a simple buy-and-hold strategy.\n",
        "\n",
        "```python\n",
        "min_time = weights.time[abs(weights).fillna(0).sum('asset')> 0].min()\n",
        "weights_new = xr.where(weights.time < min_time, 1, weights)\n",
        "qnt.output.write(weights_new)\n",
        "```\n"
      ]
    }
  ],
  "metadata": {
    "kernelspec": {
      "display_name": "Python 3",
      "language": "python",
      "name": "python3"
    },
    "language_info": {
      "codemirror_mode": {
        "name": "ipython",
        "version": 3
      },
      "file_extension": ".py",
      "mimetype": "text/x-python",
      "name": "python",
      "nbconvert_exporter": "python",
      "pygments_lexer": "ipython3",
      "version": "3.7.6"
    },
    "colab": {
      "provenance": [],
      "include_colab_link": true
    }
  },
  "nbformat": 4,
  "nbformat_minor": 0
}